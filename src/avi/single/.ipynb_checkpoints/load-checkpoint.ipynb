{
 "cells": [
  {
   "cell_type": "markdown",
   "id": "66a35eca",
   "metadata": {},
   "source": [
    "Neste experimento, o sujeito está sentado a 60 cm de distância de um monitor onde ele observa um único alvo que pisca rapidamente alternando entre as cores preto e branco. O conjunto de dados consiste em quatro sessões realizadas com quatro diferentes participantes de teste. Cada tentativa em uma sessão dura 30 segundos, após o qual o sujeito faz uma breve pausa. Para cada frequência, as tentativas são repetidas pelo menos 3 vezes. \n",
    "\n",
    "- Imprimir gráficos dos três dominios \n",
    "- Gerar o objeto mne.EpochsArray e plotar os gráficos (amostra), com os cortes de frequência (4-14 Hz) dos dados evocados\n",
    "- Aplica o filtro passa-faixa sobre as frequências de interesse (Verificar qual a menor e a maior frequência evocada) **[PARA O DIA 18/09]**\n",
    "- Classificação por isolamento de frequência"
   ]
  },
  {
   "cell_type": "code",
   "execution_count": 9,
   "id": "f09a1d1b",
   "metadata": {},
   "outputs": [],
   "source": [
    "# imports\n",
    "\n",
    "from scipy.io import loadmat\n",
    "import numpy as np"
   ]
  },
  {
   "cell_type": "code",
   "execution_count": 10,
   "id": "d5ee1c4d",
   "metadata": {},
   "outputs": [],
   "source": [
    "# pré-carregamento\n",
    "\n",
    "avi_data = list()\n",
    "for i in range(1,5):\n",
    "    avi_data.append(loadmat(f\"../../../datasets/avi/single/Sub{i}_singletarget.mat\"))"
   ]
  },
  {
   "cell_type": "code",
   "execution_count": 11,
   "id": "9261aeb9",
   "metadata": {},
   "outputs": [
    {
     "name": "stdout",
     "output_type": "stream",
     "text": [
      "Divisão dos dados:\n",
      "(15360, 27)\n",
      "(15360, 26)\n",
      "(15360, 21)\n",
      "(15360, 21)\n",
      "\n",
      "Divisão dos rótulos (sequências):\n",
      "[[10.  10.  10.  12.  12.  12.   6.5  6.5  6.5  6.   6.   6.   6.   6.\n",
      "   6.   7.5  7.5  7.5  7.   7.   7.   8.2  8.2  8.2  9.3  9.3  9.3]]\n",
      "[[10.  10.  10.   6.5  6.5  6.5  6.5  6.   6.   6.   7.5  7.5  7.5  7.\n",
      "   7.   7.   7.   7.   7.   8.2  8.2  8.2  8.2  9.3  9.3  9.3]]\n",
      "[[10.  10.  10.   6.5  6.5  6.5  6.   6.   6.   7.5  7.5  7.5  7.   7.\n",
      "   7.   8.2  8.2  8.2  9.3  9.3  9.3]]\n",
      "[[10.  10.  10.   6.5  6.5  6.5  6.   6.   6.   7.5  7.5  7.5  7.   7.\n",
      "   7.   8.2  8.2  8.2  9.3  9.3  9.3]]\n"
     ]
    }
   ],
   "source": [
    "# extração direta dos dados\n",
    "\n",
    "# Cada participante esta sendo salvo em X[participante] e y[participante]\n",
    "\n",
    "X = [d['Data'][0][0][0] for d in avi_data]\n",
    "y = [d['Data'][0][0][1] for d in avi_data]\n",
    "\n",
    "print(\"Divisão dos dados:\")\n",
    "for data in X:\n",
    "    print(data.shape)\n",
    "\n",
    "print(\"\\nDivisão dos rótulos (sequências):\")\n",
    "for data in y:\n",
    "    print(data)\n",
    "    "
   ]
  },
  {
   "cell_type": "code",
   "execution_count": 12,
   "id": "ed601504",
   "metadata": {},
   "outputs": [],
   "source": [
    "# padronizando 1º participante\n",
    "\n",
    "X[0] = X[0][:, list(set(range(27)) - set([3, 4, 5, 12, 13, 14]))]\n",
    "y[0] = y[0][:, list(set(range(27)) - set([3, 4, 5, 12, 13, 14]))]\n",
    "\n",
    "\n",
    "# padronizando o 2º participante. Quando a opção de remover no início e no fim, removi um no iniico (no começo não prestam atenção) e 2 no final (estão cansados)\n",
    "\n",
    "X[1] = X[1][:, list(set(range(26)) - set([6, 13, 17, 18, 22]))]\n",
    "y[1] = y[1][:, list(set(range(26)) - set([6, 13, 17, 18, 22]))]"
   ]
  },
  {
   "cell_type": "code",
   "execution_count": 13,
   "id": "494b7e94",
   "metadata": {},
   "outputs": [
    {
     "data": {
      "text/plain": [
       "(84, 15360)"
      ]
     },
     "execution_count": 13,
     "metadata": {},
     "output_type": "execute_result"
    }
   ],
   "source": [
    "# organizando os dados\n",
    "\n",
    "reshape_X = np.array([np.transpose(data) for data in X])\n",
    "reshape_X = reshape_X.reshape(reshape_X.shape[0]*reshape_X.shape[1], reshape_X.shape[2])\n",
    "reshape_X.shape"
   ]
  },
  {
   "cell_type": "code",
   "execution_count": 14,
   "id": "7f7229f5",
   "metadata": {},
   "outputs": [
    {
     "name": "stdout",
     "output_type": "stream",
     "text": [
      "(4, 21, 1)\n"
     ]
    },
    {
     "data": {
      "text/plain": [
       "84"
      ]
     },
     "execution_count": 14,
     "metadata": {},
     "output_type": "execute_result"
    }
   ],
   "source": [
    "reshape_Y = np.array([np.transpose(data) for data in y])\n",
    "print(reshape_Y.shape)\n",
    "reshape_Y = reshape_Y.reshape(1, reshape_Y.shape[0]*reshape_Y.shape[1])[0]\n",
    "len(reshape_Y)"
   ]
  },
  {
   "cell_type": "code",
   "execution_count": 10,
   "id": "22e3f596",
   "metadata": {},
   "outputs": [],
   "source": [
    "# salva os dados numpy\n",
    "\n",
    "np.save(f\"../../../datasets/avi/single/data.npy\", reshape_X)\n",
    "np.save(f\"../../../datasets/avi/single/labels.npy\", reshape_Y)"
   ]
  }
 ],
 "metadata": {
  "kernelspec": {
   "display_name": "Python 3 (ipykernel)",
   "language": "python",
   "name": "python3"
  },
  "language_info": {
   "codemirror_mode": {
    "name": "ipython",
    "version": 3
   },
   "file_extension": ".py",
   "mimetype": "text/x-python",
   "name": "python",
   "nbconvert_exporter": "python",
   "pygments_lexer": "ipython3",
   "version": "3.11.4"
  }
 },
 "nbformat": 4,
 "nbformat_minor": 5
}

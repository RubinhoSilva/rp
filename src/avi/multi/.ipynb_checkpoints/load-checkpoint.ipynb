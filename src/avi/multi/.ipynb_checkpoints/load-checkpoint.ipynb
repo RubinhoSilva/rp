{
 "cells": [
  {
   "cell_type": "markdown",
   "id": "5395f939",
   "metadata": {},
   "source": [
    "Neste experimento, o sujeito está sentado a 60 cm de distância de um monitor, onde ele se concentra em um dos múltiplos alvos que piscam rapidamente, alternando entre as cores preto e branco. Para cada sujeito, existem dois arquivos representando duas sessões. Cada sessão possui dez tentativas de dezesseis segundos cada.\n",
    "\n",
    "- Imprimir gráficos dos três dominios \n",
    "- Gerar o objeto mne.EpochsArray e plotar os gráficos (amostra), com os cortes de frequência (4-14 Hz) dos dados evocados\n",
    "- Aplica o filtro passa-faixa sobre as frequências de interesse (Verificar qual a menor e a maior frequência evocada) **[PARA O DIA 18/09]**\n",
    "- Classificação por isolamento de frequência"
   ]
  },
  {
   "cell_type": "code",
   "execution_count": 2,
   "id": "e1a58806",
   "metadata": {},
   "outputs": [],
   "source": [
    "# imports\n",
    "\n",
    "from scipy.io import loadmat\n",
    "import numpy as np"
   ]
  },
  {
   "cell_type": "code",
   "execution_count": 4,
   "id": "0f8986f1",
   "metadata": {},
   "outputs": [],
   "source": [
    "# pré-carregamento\n",
    "\n",
    "avi_data = list()\n",
    "for i in range(1,6):\n",
    "    # TODO CONCATENAR ESSAS LINHAS EM UM ARRAY SÓ\n",
    "    avi_data.append(loadmat(f\"../../../datasets/avi/multi/Sub{i}_1_multitarget.mat\"))\n",
    "    avi_data.append(loadmat(f\"../../../datasets/avi/multi/Sub{i}_2_multitarget.mat\"))\n",
    "    "
   ]
  },
  {
   "cell_type": "code",
   "execution_count": 7,
   "id": "d25226ae",
   "metadata": {},
   "outputs": [
    {
     "name": "stdout",
     "output_type": "stream",
     "text": [
      "Divisão dos dados:\n",
      "(8192, 10)\n",
      "(8192, 10)\n",
      "(8192, 10)\n",
      "(8192, 10)\n",
      "(8192, 10)\n",
      "(8192, 10)\n",
      "(8192, 10)\n",
      "(8192, 10)\n",
      "(8192, 10)\n",
      "(8192, 10)\n",
      "\n",
      "Divisão dos rótulos (sequências):\n",
      "[7.5 8.2 7.  8.2 6.  7.5 6.  6.  8.2 8.2]\n",
      "[9.3 6.  6.  8.2 6.  6.5 7.5 7.  6.  6. ]\n",
      "[7.5 8.2 7.  8.2 6.  7.5 6.  6.  8.2 8.2]\n",
      "[9.3 6.  6.  8.2 6.  6.5 7.5 7.  6.  6. ]\n",
      "[7.5 8.2 7.  8.2 6.  7.5 6.  6.  8.2 8.2]\n",
      "[9.3 6.  6.  8.2 6.  6.5 7.5 7.  6.  6. ]\n",
      "[7.5 8.2 7.  8.2 6.  7.5 6.  6.  8.2 8.2]\n",
      "[9.3 6.  6.  8.2 6.  6.5 7.5 7.  6.  6. ]\n",
      "[7.5 8.2 7.  8.2 6.  7.5 6.  6.  8.2 8.2]\n",
      "[9.3 6.  6.  8.2 6.  6.5 7.5 7.  6.  6. ]\n"
     ]
    }
   ],
   "source": [
    "# extração direta dos dados\n",
    "\n",
    "X = [d['Data'][0][0][7] for d in avi_data]\n",
    "y = [d['Data'][0][0][8][0] for d in avi_data]\n",
    "\n",
    "print(\"Divisão dos dados:\")\n",
    "for data in X:\n",
    "    print(data.shape)\n",
    "\n",
    "print(\"\\nDivisão dos rótulos (sequências):\")\n",
    "for data in y:\n",
    "    print(data)"
   ]
  },
  {
   "cell_type": "code",
   "execution_count": 8,
   "id": "f6ae05df",
   "metadata": {},
   "outputs": [
    {
     "name": "stdout",
     "output_type": "stream",
     "text": [
      "(10, 10, 8192)\n",
      "(10, 10)\n"
     ]
    },
    {
     "data": {
      "text/plain": [
       "100"
      ]
     },
     "execution_count": 8,
     "metadata": {},
     "output_type": "execute_result"
    }
   ],
   "source": [
    "# organização dos dados\n",
    "\n",
    "# DEVE SIM\n",
    "# NÃO DEVERIA JUNTAR A LINHA 0 COM A LINHA 1? ASSIM DIMINUINDO DE 10 PARA 5 LINHAS? VISTO QUE SÃO APENAS 5 PARTICIPANTES\n",
    "\n",
    "reshape_X = np.array([np.transpose(data) for data in X])\n",
    "print(reshape_X.shape)\n",
    "reshape_X = reshape_X.reshape(reshape_X.shape[0]*reshape_X.shape[1], reshape_X.shape[2])\n",
    "reshape_X.shape\n",
    "\n",
    "reshape_Y = np.array([np.transpose(data) for data in y])\n",
    "print(reshape_Y.shape)\n",
    "reshape_Y = reshape_Y.reshape(1, reshape_Y.shape[0]*reshape_Y.shape[1])[0]\n",
    "len(reshape_Y)"
   ]
  },
  {
   "cell_type": "code",
   "execution_count": 9,
   "id": "a823946b",
   "metadata": {},
   "outputs": [],
   "source": [
    "# salvar dados numpy\n",
    "\n",
    "np.save(\"../../../datasets/avi/multi/data.npy\", reshape_X)\n",
    "np.save(\"../../../datasets/avi/multi/labels.npy\", reshape_Y)"
   ]
  }
 ],
 "metadata": {
  "kernelspec": {
   "display_name": "Python 3 (ipykernel)",
   "language": "python",
   "name": "python3"
  },
  "language_info": {
   "codemirror_mode": {
    "name": "ipython",
    "version": 3
   },
   "file_extension": ".py",
   "mimetype": "text/x-python",
   "name": "python",
   "nbconvert_exporter": "python",
   "pygments_lexer": "ipython3",
   "version": "3.11.4"
  }
 },
 "nbformat": 4,
 "nbformat_minor": 5
}

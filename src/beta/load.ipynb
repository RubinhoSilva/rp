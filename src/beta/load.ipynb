{
 "cells": [
  {
   "cell_type": "markdown",
   "id": "66a35eca",
   "metadata": {},
   "source": [
    "Sujeito 33\n",
    "\n",
    "- Identificar o modelo de experimentação (explicar)\n",
    "- Imprimir gráficos dos três dominios \n",
    "- Gerar o objeto mne.EpochsArray e plotar os gráficos (amostra), com os cortes de frequência (4-14 Hz) dos dados evocados\n",
    "- Aplica o filtro passa-faixa sobre as frequências de interesse (Verificar qual a menor e a maior frequência evocada) **[PARA O DIA 18/09]**\n",
    "- Classificação por isolamento de frequência"
   ]
  },
  {
   "cell_type": "code",
   "execution_count": 1,
   "id": "f09a1d1b",
   "metadata": {},
   "outputs": [
    {
     "ename": "KeyboardInterrupt",
     "evalue": "",
     "output_type": "error",
     "traceback": [
      "\u001b[0;31m---------------------------------------------------------------------------\u001b[0m",
      "\u001b[0;31mKeyboardInterrupt\u001b[0m                         Traceback (most recent call last)",
      "Cell \u001b[0;32mIn[1], line 3\u001b[0m\n\u001b[1;32m      1\u001b[0m \u001b[38;5;66;03m# imports\u001b[39;00m\n\u001b[0;32m----> 3\u001b[0m \u001b[38;5;28;01mfrom\u001b[39;00m \u001b[38;5;21;01mscipy\u001b[39;00m\u001b[38;5;21;01m.\u001b[39;00m\u001b[38;5;21;01mio\u001b[39;00m \u001b[38;5;28;01mimport\u001b[39;00m loadmat\n\u001b[1;32m      4\u001b[0m \u001b[38;5;28;01mimport\u001b[39;00m \u001b[38;5;21;01mnumpy\u001b[39;00m \u001b[38;5;28;01mas\u001b[39;00m \u001b[38;5;21;01mnp\u001b[39;00m\n",
      "File \u001b[0;32m~/anaconda3/envs/projeto_2023/lib/python3.10/site-packages/scipy/__init__.py:67\u001b[0m\n\u001b[1;32m     62\u001b[0m     \u001b[38;5;28;01mreturn\u001b[39;00m [\u001b[38;5;124m'\u001b[39m\u001b[38;5;124mtest\u001b[39m\u001b[38;5;124m'\u001b[39m]\n\u001b[1;32m     65\u001b[0m __all__ \u001b[38;5;241m=\u001b[39m \u001b[38;5;21m__dir__\u001b[39m()\n\u001b[0;32m---> 67\u001b[0m \u001b[38;5;28;01mfrom\u001b[39;00m \u001b[38;5;21;01mnumpy\u001b[39;00m \u001b[38;5;28;01mimport\u001b[39;00m show_config \u001b[38;5;28;01mas\u001b[39;00m show_numpy_config\n\u001b[1;32m     68\u001b[0m \u001b[38;5;28;01mif\u001b[39;00m show_numpy_config \u001b[38;5;129;01mis\u001b[39;00m \u001b[38;5;28;01mNone\u001b[39;00m:\n\u001b[1;32m     69\u001b[0m     \u001b[38;5;28;01mraise\u001b[39;00m \u001b[38;5;167;01mImportError\u001b[39;00m(\n\u001b[1;32m     70\u001b[0m         \u001b[38;5;124m\"\u001b[39m\u001b[38;5;124mCannot import SciPy when running from NumPy source directory.\u001b[39m\u001b[38;5;124m\"\u001b[39m)\n",
      "File \u001b[0;32m~/anaconda3/envs/projeto_2023/lib/python3.10/site-packages/numpy/__init__.py:349\u001b[0m\n\u001b[1;32m    342\u001b[0m         msg \u001b[38;5;241m=\u001b[39m (\u001b[38;5;124m\"\u001b[39m\u001b[38;5;124mThe current Numpy installation (\u001b[39m\u001b[38;5;132;01m{!r}\u001b[39;00m\u001b[38;5;124m) fails to \u001b[39m\u001b[38;5;124m\"\u001b[39m\n\u001b[1;32m    343\u001b[0m                \u001b[38;5;124m\"\u001b[39m\u001b[38;5;124mpass simple sanity checks. This can be caused for example \u001b[39m\u001b[38;5;124m\"\u001b[39m\n\u001b[1;32m    344\u001b[0m                \u001b[38;5;124m\"\u001b[39m\u001b[38;5;124mby incorrect BLAS library being linked in, or by mixing \u001b[39m\u001b[38;5;124m\"\u001b[39m\n\u001b[1;32m    345\u001b[0m                \u001b[38;5;124m\"\u001b[39m\u001b[38;5;124mpackage managers (pip, conda, apt, ...). Search closed \u001b[39m\u001b[38;5;124m\"\u001b[39m\n\u001b[1;32m    346\u001b[0m                \u001b[38;5;124m\"\u001b[39m\u001b[38;5;124mnumpy issues for similar problems.\u001b[39m\u001b[38;5;124m\"\u001b[39m)\n\u001b[1;32m    347\u001b[0m         \u001b[38;5;28;01mraise\u001b[39;00m \u001b[38;5;167;01mRuntimeError\u001b[39;00m(msg\u001b[38;5;241m.\u001b[39mformat(\u001b[38;5;18m__file__\u001b[39m)) \u001b[38;5;28;01mfrom\u001b[39;00m \u001b[38;5;28;01mNone\u001b[39;00m\n\u001b[0;32m--> 349\u001b[0m \u001b[43m_sanity_check\u001b[49m\u001b[43m(\u001b[49m\u001b[43m)\u001b[49m\n\u001b[1;32m    350\u001b[0m \u001b[38;5;28;01mdel\u001b[39;00m _sanity_check\n\u001b[1;32m    352\u001b[0m \u001b[38;5;28;01mdef\u001b[39;00m \u001b[38;5;21m_mac_os_check\u001b[39m():\n",
      "File \u001b[0;32m~/anaconda3/envs/projeto_2023/lib/python3.10/site-packages/numpy/__init__.py:339\u001b[0m, in \u001b[0;36m_sanity_check\u001b[0;34m()\u001b[0m\n\u001b[1;32m    337\u001b[0m \u001b[38;5;28;01mtry\u001b[39;00m:\n\u001b[1;32m    338\u001b[0m     x \u001b[38;5;241m=\u001b[39m ones(\u001b[38;5;241m2\u001b[39m, dtype\u001b[38;5;241m=\u001b[39mfloat32)\n\u001b[0;32m--> 339\u001b[0m     \u001b[38;5;28;01mif\u001b[39;00m \u001b[38;5;129;01mnot\u001b[39;00m \u001b[38;5;28mabs\u001b[39m(\u001b[43mx\u001b[49m\u001b[38;5;241;43m.\u001b[39;49m\u001b[43mdot\u001b[49m\u001b[43m(\u001b[49m\u001b[43mx\u001b[49m\u001b[43m)\u001b[49m \u001b[38;5;241m-\u001b[39m \u001b[38;5;241m2.0\u001b[39m) \u001b[38;5;241m<\u001b[39m \u001b[38;5;241m1e-5\u001b[39m:\n\u001b[1;32m    340\u001b[0m         \u001b[38;5;28;01mraise\u001b[39;00m \u001b[38;5;167;01mAssertionError\u001b[39;00m()\n\u001b[1;32m    341\u001b[0m \u001b[38;5;28;01mexcept\u001b[39;00m \u001b[38;5;167;01mAssertionError\u001b[39;00m:\n",
      "\u001b[0;31mKeyboardInterrupt\u001b[0m: "
     ]
    }
   ],
   "source": [
    "# imports\n",
    "\n",
    "from scipy.io import loadmat\n",
    "import numpy as np"
   ]
  },
  {
   "cell_type": "code",
   "execution_count": null,
   "id": "d5ee1c4d",
   "metadata": {},
   "outputs": [],
   "source": [
    "# pré-carregamento\n",
    "\n",
    "beta_data = loadmat(f\"../../datasets/beta/S33.mat\")"
   ]
  },
  {
   "cell_type": "code",
   "execution_count": null,
   "id": "9261aeb9",
   "metadata": {},
   "outputs": [],
   "source": [
    "# extração direta dos dados\n",
    "\n",
    "X = beta_data['data'][0][0][0]\n",
    "y = beta_data['data'][0][0][1][0][0][4][0]\n",
    "\n",
    "# ELETRODOS, DADOS, 4, TARGET"
   ]
  },
  {
   "cell_type": "code",
   "execution_count": null,
   "id": "494b7e94",
   "metadata": {},
   "outputs": [],
   "source": [
    "# organizando os dados\n",
    "\n",
    "X = np.array(np.transpose(X,  (2, 3, 0, 1)))\n",
    "X = X.reshape((160, 64, 1000)) #juntar para ficar 160, 64, 1000\n",
    "X.shape"
   ]
  },
  {
   "cell_type": "code",
   "execution_count": 5,
   "id": "5356d8c9-6175-494b-bfcf-9f951bef4b5e",
   "metadata": {
    "tags": []
   },
   "outputs": [
    {
     "name": "stdout",
     "output_type": "stream",
     "text": [
      "[ 8.6  8.8  9.   9.2  9.4  9.6  9.8 10.  10.2 10.4 10.6 10.8 11.  11.2\n",
      " 11.4 11.6 11.8 12.  12.2 12.4 12.6 12.8 13.  13.2 13.4 13.6 13.8 14.\n",
      " 14.2 14.4 14.6 14.8 15.  15.2 15.4 15.6 15.8  8.   8.2  8.4]\n"
     ]
    }
   ],
   "source": [
    "print(y)"
   ]
  },
  {
   "cell_type": "code",
   "execution_count": 5,
   "id": "449ff6ef-404c-4eee-be0b-99b43a3f3e7a",
   "metadata": {
    "tags": []
   },
   "outputs": [
    {
     "data": {
      "text/plain": [
       "['FP1',\n",
       " 'FPZ',\n",
       " 'FP2',\n",
       " 'AF3',\n",
       " 'AF4',\n",
       " 'F7',\n",
       " 'F5',\n",
       " 'F3',\n",
       " 'F1',\n",
       " 'FZ',\n",
       " 'F2',\n",
       " 'F4',\n",
       " 'F6',\n",
       " 'F8',\n",
       " 'FT7',\n",
       " 'FC5',\n",
       " 'FC3',\n",
       " 'FC1',\n",
       " 'FCZ',\n",
       " 'FC2',\n",
       " 'FC4',\n",
       " 'FC6',\n",
       " 'FT8',\n",
       " 'T7',\n",
       " 'C5',\n",
       " 'C3',\n",
       " 'C1',\n",
       " 'CZ',\n",
       " 'C2',\n",
       " 'C4',\n",
       " 'C6',\n",
       " 'T8',\n",
       " 'M1',\n",
       " 'TP7',\n",
       " 'CP5',\n",
       " 'CP3',\n",
       " 'CP1',\n",
       " 'CPZ',\n",
       " 'CP2',\n",
       " 'CP4',\n",
       " 'CP6',\n",
       " 'TP8',\n",
       " 'M2',\n",
       " 'P7',\n",
       " 'P5',\n",
       " 'P3',\n",
       " 'P1',\n",
       " 'PZ',\n",
       " 'P2',\n",
       " 'P4',\n",
       " 'P6',\n",
       " 'P8',\n",
       " 'PO7',\n",
       " 'PO5',\n",
       " 'PO3',\n",
       " 'POZ',\n",
       " 'PO4',\n",
       " 'PO6',\n",
       " 'PO8',\n",
       " 'CB1',\n",
       " 'O1',\n",
       " 'OZ',\n",
       " 'O2',\n",
       " 'CB2']"
      ]
     },
     "execution_count": 5,
     "metadata": {},
     "output_type": "execute_result"
    }
   ],
   "source": [
    "channels = [beta_data['data'][0][0][1]['chan'][0][0][index][3][0] for index in range(64)]\n",
    "channels"
   ]
  },
  {
   "cell_type": "code",
   "execution_count": 7,
   "id": "b1849b22-ace8-4687-b6c3-1a0f400ab944",
   "metadata": {
    "tags": []
   },
   "outputs": [],
   "source": [
    "y = np.array([np.transpose(data) for data in y] * 4) #o teste é repetido 4 vezes, logo, preciso quadruplicar os labels"
   ]
  },
  {
   "cell_type": "code",
   "execution_count": 8,
   "id": "22e3f596",
   "metadata": {},
   "outputs": [],
   "source": [
    "# salva os dados numpy\n",
    "\n",
    "np.save(f\"../../datasets/beta/data.npy\", X)\n",
    "np.save(f\"../../datasets/beta/labels.npy\", y)\n",
    "np.save(f\"../../datasets/beta/channels.npy\", channels)"
   ]
  }
 ],
 "metadata": {
  "kernelspec": {
   "display_name": "projeto_2023",
   "language": "python",
   "name": "projeto_2023"
  },
  "language_info": {
   "codemirror_mode": {
    "name": "ipython",
    "version": 3
   },
   "file_extension": ".py",
   "mimetype": "text/x-python",
   "name": "python",
   "nbconvert_exporter": "python",
   "pygments_lexer": "ipython3",
   "version": "3.10.12"
  }
 },
 "nbformat": 4,
 "nbformat_minor": 5
}

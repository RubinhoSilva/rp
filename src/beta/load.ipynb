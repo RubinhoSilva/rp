{
 "cells": [
  {
   "cell_type": "markdown",
   "id": "66a35eca",
   "metadata": {},
   "source": [
    "Sujeito 33\n",
    "\n",
    "- Identificar o modelo de experimentação (explicar)\n",
    "- Imprimir gráficos dos três dominios \n",
    "- Gerar o objeto mne.EpochsArray e plotar os gráficos (amostra), com os cortes de frequência (4-14 Hz) dos dados evocados\n",
    "- Aplica o filtro passa-faixa sobre as frequências de interesse (Verificar qual a menor e a maior frequência evocada) **[PARA O DIA 18/09]**\n",
    "- Classificação por isolamento de frequência"
   ]
  },
  {
   "cell_type": "code",
   "execution_count": 1,
   "id": "f09a1d1b",
   "metadata": {},
   "outputs": [],
   "source": [
    "# imports\n",
    "\n",
    "from scipy.io import loadmat\n",
    "import numpy as np"
   ]
  },
  {
   "cell_type": "code",
   "execution_count": 2,
   "id": "d5ee1c4d",
   "metadata": {},
   "outputs": [],
   "source": [
    "# pré-carregamento\n",
    "\n",
    "beta_data = loadmat(f\"../../datasets/beta/S3.mat\")"
   ]
  },
  {
   "cell_type": "code",
   "execution_count": 6,
   "id": "9261aeb9",
   "metadata": {},
   "outputs": [
    {
     "data": {
      "text/plain": [
       "(64, 750, 4, 40)"
      ]
     },
     "execution_count": 6,
     "metadata": {},
     "output_type": "execute_result"
    }
   ],
   "source": [
    "# extração direta dos dados\n",
    "\n",
    "X = beta_data['data'][0][0][0]\n",
    "y = beta_data['data'][0][0][1][0][0][4][0]\n",
    "\n",
    "# ELETRODOS, DADOS, 4, TARGET\n",
    "X.shape"
   ]
  },
  {
   "cell_type": "code",
   "execution_count": 7,
   "id": "494b7e94",
   "metadata": {},
   "outputs": [
    {
     "data": {
      "text/plain": [
       "(160, 64, 750)"
      ]
     },
     "execution_count": 7,
     "metadata": {},
     "output_type": "execute_result"
    }
   ],
   "source": [
    "# organizando os dados\n",
    "\n",
    "X = np.array(np.transpose(X,  (2, 3, 0, 1)))\n",
    "X = X.reshape((160, 64, 750)) #juntar para ficar 160, 64, 1000\n",
    "X.shape"
   ]
  },
  {
   "cell_type": "code",
   "execution_count": 8,
   "id": "5356d8c9-6175-494b-bfcf-9f951bef4b5e",
   "metadata": {
    "tags": []
   },
   "outputs": [
    {
     "name": "stdout",
     "output_type": "stream",
     "text": [
      "[ 8.6  8.8  9.   9.2  9.4  9.6  9.8 10.  10.2 10.4 10.6 10.8 11.  11.2\n",
      " 11.4 11.6 11.8 12.  12.2 12.4 12.6 12.8 13.  13.2 13.4 13.6 13.8 14.\n",
      " 14.2 14.4 14.6 14.8 15.  15.2 15.4 15.6 15.8  8.   8.2  8.4]\n"
     ]
    }
   ],
   "source": [
    "print(y)"
   ]
  },
  {
   "cell_type": "code",
   "execution_count": 9,
   "id": "449ff6ef-404c-4eee-be0b-99b43a3f3e7a",
   "metadata": {
    "tags": []
   },
   "outputs": [
    {
     "data": {
      "text/plain": [
       "['FP1',\n",
       " 'FPZ',\n",
       " 'FP2',\n",
       " 'AF3',\n",
       " 'AF4',\n",
       " 'F7',\n",
       " 'F5',\n",
       " 'F3',\n",
       " 'F1',\n",
       " 'FZ',\n",
       " 'F2',\n",
       " 'F4',\n",
       " 'F6',\n",
       " 'F8',\n",
       " 'FT7',\n",
       " 'FC5',\n",
       " 'FC3',\n",
       " 'FC1',\n",
       " 'FCZ',\n",
       " 'FC2',\n",
       " 'FC4',\n",
       " 'FC6',\n",
       " 'FT8',\n",
       " 'T7',\n",
       " 'C5',\n",
       " 'C3',\n",
       " 'C1',\n",
       " 'CZ',\n",
       " 'C2',\n",
       " 'C4',\n",
       " 'C6',\n",
       " 'T8',\n",
       " 'M1',\n",
       " 'TP7',\n",
       " 'CP5',\n",
       " 'CP3',\n",
       " 'CP1',\n",
       " 'CPZ',\n",
       " 'CP2',\n",
       " 'CP4',\n",
       " 'CP6',\n",
       " 'TP8',\n",
       " 'M2',\n",
       " 'P7',\n",
       " 'P5',\n",
       " 'P3',\n",
       " 'P1',\n",
       " 'PZ',\n",
       " 'P2',\n",
       " 'P4',\n",
       " 'P6',\n",
       " 'P8',\n",
       " 'PO7',\n",
       " 'PO5',\n",
       " 'PO3',\n",
       " 'POZ',\n",
       " 'PO4',\n",
       " 'PO6',\n",
       " 'PO8',\n",
       " 'CB1',\n",
       " 'O1',\n",
       " 'OZ',\n",
       " 'O2',\n",
       " 'CB2']"
      ]
     },
     "execution_count": 9,
     "metadata": {},
     "output_type": "execute_result"
    }
   ],
   "source": [
    "channels = [beta_data['data'][0][0][1]['chan'][0][0][index][3][0] for index in range(64)]\n",
    "channels"
   ]
  },
  {
   "cell_type": "code",
   "execution_count": 10,
   "id": "b1849b22-ace8-4687-b6c3-1a0f400ab944",
   "metadata": {
    "tags": []
   },
   "outputs": [],
   "source": [
    "y = np.array([np.transpose(data) for data in y] * 4) #o teste é repetido 4 vezes, logo, preciso quadruplicar os labels"
   ]
  },
  {
   "cell_type": "code",
   "execution_count": 11,
   "id": "22e3f596",
   "metadata": {},
   "outputs": [],
   "source": [
    "# salva os dados numpy\n",
    "\n",
    "np.save(f\"../../datasets/beta/data.npy\", X)\n",
    "np.save(f\"../../datasets/beta/labels.npy\", y)\n",
    "np.save(f\"../../datasets/beta/channels.npy\", channels)"
   ]
  }
 ],
 "metadata": {
  "kernelspec": {
   "display_name": "projeto_2023",
   "language": "python",
   "name": "projeto_2023"
  },
  "language_info": {
   "codemirror_mode": {
    "name": "ipython",
    "version": 3
   },
   "file_extension": ".py",
   "mimetype": "text/x-python",
   "name": "python",
   "nbconvert_exporter": "python",
   "pygments_lexer": "ipython3",
   "version": "3.10.12"
  }
 },
 "nbformat": 4,
 "nbformat_minor": 5
}
